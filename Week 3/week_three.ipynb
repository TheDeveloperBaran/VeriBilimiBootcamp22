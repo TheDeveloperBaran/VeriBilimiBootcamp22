{
 "cells": [
  {
   "cell_type": "code",
   "execution_count": 2,
   "id": "d8fb75b6-ec22-4900-99c0-7e49f2df67b3",
   "metadata": {
    "tags": []
   },
   "outputs": [],
   "source": [
    "import matplotlib.pyplot as plt\n",
    "import pandas as pd\n",
    "import numpy as np\n",
    "import warnings\n",
    "from collections import Counter"
   ]
  },
  {
   "cell_type": "code",
   "execution_count": 3,
   "id": "bd76242d-d2fb-4d71-ac82-2ade316a5c68",
   "metadata": {
    "tags": []
   },
   "outputs": [],
   "source": [
    "warnings.filterwarnings(\"ignore\")"
   ]
  },
  {
   "cell_type": "code",
   "execution_count": 4,
   "id": "c50daa01-c57f-49a6-ae47-9f318a51ae40",
   "metadata": {
    "tags": []
   },
   "outputs": [],
   "source": [
    "veri = pd.read_csv(\"C:\\\\Users\\\\lenovo\\\\Desktop\\\\VeriBilimiBootcamp\\\\btk\\\\weekone\\\\olimpiyatlar.csv\")"
   ]
  },
  {
   "cell_type": "code",
   "execution_count": 6,
   "id": "ee2cd8e8-2bba-464c-9d6e-11dd6ce0d3b9",
   "metadata": {
    "tags": []
   },
   "outputs": [
    {
     "data": {
      "text/html": [
       "<div>\n",
       "<style scoped>\n",
       "    .dataframe tbody tr th:only-of-type {\n",
       "        vertical-align: middle;\n",
       "    }\n",
       "\n",
       "    .dataframe tbody tr th {\n",
       "        vertical-align: top;\n",
       "    }\n",
       "\n",
       "    .dataframe thead th {\n",
       "        text-align: right;\n",
       "    }\n",
       "</style>\n",
       "<table border=\"1\" class=\"dataframe\">\n",
       "  <thead>\n",
       "    <tr style=\"text-align: right;\">\n",
       "      <th></th>\n",
       "      <th>id</th>\n",
       "      <th>ad</th>\n",
       "      <th>cinsiyet</th>\n",
       "      <th>yaş</th>\n",
       "      <th>boy</th>\n",
       "      <th>kilo</th>\n",
       "      <th>takım</th>\n",
       "      <th>uoc</th>\n",
       "      <th>oyunlar</th>\n",
       "      <th>yıl</th>\n",
       "      <th>sezon</th>\n",
       "      <th>şehir</th>\n",
       "      <th>spor</th>\n",
       "      <th>olay</th>\n",
       "      <th>madalya</th>\n",
       "    </tr>\n",
       "  </thead>\n",
       "  <tbody>\n",
       "    <tr>\n",
       "      <th>0</th>\n",
       "      <td>4</td>\n",
       "      <td>Edgar Lindenau Aabye</td>\n",
       "      <td>M</td>\n",
       "      <td>34.0</td>\n",
       "      <td>182.48</td>\n",
       "      <td>95.62</td>\n",
       "      <td>Denmark/Sweden</td>\n",
       "      <td>DEN</td>\n",
       "      <td>1900 Summer</td>\n",
       "      <td>1900</td>\n",
       "      <td>Summer</td>\n",
       "      <td>Paris</td>\n",
       "      <td>Tug-Of-War</td>\n",
       "      <td>Tug-Of-War Men's Tug-Of-War</td>\n",
       "      <td>Gold</td>\n",
       "    </tr>\n",
       "    <tr>\n",
       "      <th>1</th>\n",
       "      <td>15</td>\n",
       "      <td>Arvo Ossian Aaltonen</td>\n",
       "      <td>M</td>\n",
       "      <td>30.0</td>\n",
       "      <td>182.01</td>\n",
       "      <td>76.69</td>\n",
       "      <td>Finland</td>\n",
       "      <td>FIN</td>\n",
       "      <td>1920 Summer</td>\n",
       "      <td>1920</td>\n",
       "      <td>Summer</td>\n",
       "      <td>Antwerpen</td>\n",
       "      <td>Swimming</td>\n",
       "      <td>Swimming Men's 200 metres Breaststroke</td>\n",
       "      <td>Bronze</td>\n",
       "    </tr>\n",
       "    <tr>\n",
       "      <th>2</th>\n",
       "      <td>15</td>\n",
       "      <td>Arvo Ossian Aaltonen</td>\n",
       "      <td>M</td>\n",
       "      <td>30.0</td>\n",
       "      <td>177.00</td>\n",
       "      <td>75.00</td>\n",
       "      <td>Finland</td>\n",
       "      <td>FIN</td>\n",
       "      <td>1920 Summer</td>\n",
       "      <td>1920</td>\n",
       "      <td>Summer</td>\n",
       "      <td>Antwerpen</td>\n",
       "      <td>Swimming</td>\n",
       "      <td>Swimming Men's 400 metres Breaststroke</td>\n",
       "      <td>Bronze</td>\n",
       "    </tr>\n",
       "  </tbody>\n",
       "</table>\n",
       "</div>"
      ],
      "text/plain": [
       "   id                    ad cinsiyet   yaş     boy   kilo           takım  \\\n",
       "0   4  Edgar Lindenau Aabye        M  34.0  182.48  95.62  Denmark/Sweden   \n",
       "1  15  Arvo Ossian Aaltonen        M  30.0  182.01  76.69         Finland   \n",
       "2  15  Arvo Ossian Aaltonen        M  30.0  177.00  75.00         Finland   \n",
       "\n",
       "   uoc      oyunlar   yıl   sezon      şehir        spor  \\\n",
       "0  DEN  1900 Summer  1900  Summer      Paris  Tug-Of-War   \n",
       "1  FIN  1920 Summer  1920  Summer  Antwerpen    Swimming   \n",
       "2  FIN  1920 Summer  1920  Summer  Antwerpen    Swimming   \n",
       "\n",
       "                                     olay madalya  \n",
       "0             Tug-Of-War Men's Tug-Of-War    Gold  \n",
       "1  Swimming Men's 200 metres Breaststroke  Bronze  \n",
       "2  Swimming Men's 400 metres Breaststroke  Bronze  "
      ]
     },
     "execution_count": 6,
     "metadata": {},
     "output_type": "execute_result"
    }
   ],
   "source": [
    "veri.head(3)"
   ]
  },
  {
   "cell_type": "code",
   "execution_count": 39,
   "id": "62f4b2e4-d683-4c43-aee8-8ec620bab337",
   "metadata": {
    "tags": []
   },
   "outputs": [],
   "source": [
    "veri_zaman = veri.copy()"
   ]
  },
  {
   "cell_type": "code",
   "execution_count": 40,
   "id": "57ed8565-bc06-4bee-8e9b-0a5159cbeeb9",
   "metadata": {
    "tags": []
   },
   "outputs": [
    {
     "data": {
      "text/plain": [
       "array([1900, 1920, 2014, 1948, 1952, 1992, 1994, 2002, 2006, 2008, 1988,\n",
       "       1996, 1960, 1912, 1956, 2016, 2012, 2000, 2004, 1980, 1984, 1936,\n",
       "       1906, 1964, 1972, 1924, 1904, 1932, 1928, 1968, 1976, 2010, 1908,\n",
       "       1998, 1896], dtype=int64)"
      ]
     },
     "execution_count": 40,
     "metadata": {},
     "output_type": "execute_result"
    }
   ],
   "source": [
    "essiz_yillar = veri_zaman.yıl.unique()\n",
    "essiz_yillar"
   ]
  },
  {
   "cell_type": "code",
   "execution_count": 41,
   "id": "17d34d8d-ab52-4dee-bc6a-24e8223ad02e",
   "metadata": {
    "tags": []
   },
   "outputs": [],
   "source": [
    "sorting_array = np.sort(essiz_yillar)"
   ]
  },
  {
   "cell_type": "code",
   "execution_count": 42,
   "id": "bb95a00b-4f3a-45a0-8ad3-63a6f57476e8",
   "metadata": {
    "tags": []
   },
   "outputs": [
    {
     "data": {
      "text/plain": [
       "array([1896, 1900, 1904, 1906, 1908, 1912, 1920, 1924, 1928, 1932, 1936,\n",
       "       1948, 1952, 1956, 1960, 1964, 1968, 1972, 1976, 1980, 1984, 1988,\n",
       "       1992, 1994, 1996, 1998, 2000, 2002, 2004, 2006, 2008, 2010, 2012,\n",
       "       2014, 2016], dtype=int64)"
      ]
     },
     "execution_count": 42,
     "metadata": {},
     "output_type": "execute_result"
    }
   ],
   "source": [
    "sorting_array"
   ]
  },
  {
   "cell_type": "code",
   "execution_count": 43,
   "id": "69f4dd70-29df-495c-9e63-54e6a42ff4d2",
   "metadata": {
    "tags": []
   },
   "outputs": [
    {
     "data": {
      "image/png": "[encoded data removed]",
      "text/plain": [
       "<Figure size 640x480 with 1 Axes>"
      ]
     },
     "metadata": {},
     "output_type": "display_data"
    }
   ],
   "source": [
    "plt.figure()\n",
    "plt.scatter(range(len(sorting_array)), sorting_array)\n",
    "plt.ylabel(\"Yillar\")\n",
    "plt.title(\"Olimpiyatların Gerçekleştirildiği Yıllar\")\n",
    "plt.grid(True)\n",
    "plt.show()"
   ]
  },
  {
   "cell_type": "code",
   "execution_count": 44,
   "id": "14b3675d-6e05-4b28-8502-1ae79ce20cf6",
   "metadata": {
    "tags": []
   },
   "outputs": [
    {
     "data": {
      "text/plain": [
       "0   1900-01-01\n",
       "1   1920-01-01\n",
       "2   1920-01-01\n",
       "Name: yıl, dtype: datetime64[ns]"
      ]
     },
     "execution_count": 44,
     "metadata": {},
     "output_type": "execute_result"
    }
   ],
   "source": [
    "clock_time_date = pd.to_datetime(veri_zaman[\"yıl\"], format = '%Y')\n",
    "clock_time_date.head(3)"
   ]
  },
  {
   "cell_type": "code",
   "execution_count": 45,
   "id": "9e95315c-08a4-4868-9ba1-bc40f69d5b98",
   "metadata": {
    "tags": []
   },
   "outputs": [
    {
     "data": {
      "text/html": [
       "<div>\n",
       "<style scoped>\n",
       "    .dataframe tbody tr th:only-of-type {\n",
       "        vertical-align: middle;\n",
       "    }\n",
       "\n",
       "    .dataframe tbody tr th {\n",
       "        vertical-align: top;\n",
       "    }\n",
       "\n",
       "    .dataframe thead th {\n",
       "        text-align: right;\n",
       "    }\n",
       "</style>\n",
       "<table border=\"1\" class=\"dataframe\">\n",
       "  <thead>\n",
       "    <tr style=\"text-align: right;\">\n",
       "      <th></th>\n",
       "      <th>id</th>\n",
       "      <th>ad</th>\n",
       "      <th>cinsiyet</th>\n",
       "      <th>yaş</th>\n",
       "      <th>boy</th>\n",
       "      <th>kilo</th>\n",
       "      <th>takım</th>\n",
       "      <th>uoc</th>\n",
       "      <th>oyunlar</th>\n",
       "      <th>yıl</th>\n",
       "      <th>sezon</th>\n",
       "      <th>şehir</th>\n",
       "      <th>spor</th>\n",
       "      <th>olay</th>\n",
       "      <th>madalya</th>\n",
       "      <th>tarih_saat</th>\n",
       "    </tr>\n",
       "  </thead>\n",
       "  <tbody>\n",
       "    <tr>\n",
       "      <th>0</th>\n",
       "      <td>4</td>\n",
       "      <td>Edgar Lindenau Aabye</td>\n",
       "      <td>M</td>\n",
       "      <td>34.0</td>\n",
       "      <td>182.48</td>\n",
       "      <td>95.62</td>\n",
       "      <td>Denmark/Sweden</td>\n",
       "      <td>DEN</td>\n",
       "      <td>1900 Summer</td>\n",
       "      <td>1900</td>\n",
       "      <td>Summer</td>\n",
       "      <td>Paris</td>\n",
       "      <td>Tug-Of-War</td>\n",
       "      <td>Tug-Of-War Men's Tug-Of-War</td>\n",
       "      <td>Gold</td>\n",
       "      <td>1900-01-01</td>\n",
       "    </tr>\n",
       "    <tr>\n",
       "      <th>1</th>\n",
       "      <td>15</td>\n",
       "      <td>Arvo Ossian Aaltonen</td>\n",
       "      <td>M</td>\n",
       "      <td>30.0</td>\n",
       "      <td>182.01</td>\n",
       "      <td>76.69</td>\n",
       "      <td>Finland</td>\n",
       "      <td>FIN</td>\n",
       "      <td>1920 Summer</td>\n",
       "      <td>1920</td>\n",
       "      <td>Summer</td>\n",
       "      <td>Antwerpen</td>\n",
       "      <td>Swimming</td>\n",
       "      <td>Swimming Men's 200 metres Breaststroke</td>\n",
       "      <td>Bronze</td>\n",
       "      <td>1920-01-01</td>\n",
       "    </tr>\n",
       "    <tr>\n",
       "      <th>2</th>\n",
       "      <td>15</td>\n",
       "      <td>Arvo Ossian Aaltonen</td>\n",
       "      <td>M</td>\n",
       "      <td>30.0</td>\n",
       "      <td>177.00</td>\n",
       "      <td>75.00</td>\n",
       "      <td>Finland</td>\n",
       "      <td>FIN</td>\n",
       "      <td>1920 Summer</td>\n",
       "      <td>1920</td>\n",
       "      <td>Summer</td>\n",
       "      <td>Antwerpen</td>\n",
       "      <td>Swimming</td>\n",
       "      <td>Swimming Men's 400 metres Breaststroke</td>\n",
       "      <td>Bronze</td>\n",
       "      <td>1920-01-01</td>\n",
       "    </tr>\n",
       "  </tbody>\n",
       "</table>\n",
       "</div>"
      ],
      "text/plain": [
       "   id                    ad cinsiyet   yaş     boy   kilo           takım  \\\n",
       "0   4  Edgar Lindenau Aabye        M  34.0  182.48  95.62  Denmark/Sweden   \n",
       "1  15  Arvo Ossian Aaltonen        M  30.0  182.01  76.69         Finland   \n",
       "2  15  Arvo Ossian Aaltonen        M  30.0  177.00  75.00         Finland   \n",
       "\n",
       "   uoc      oyunlar   yıl   sezon      şehir        spor  \\\n",
       "0  DEN  1900 Summer  1900  Summer      Paris  Tug-Of-War   \n",
       "1  FIN  1920 Summer  1920  Summer  Antwerpen    Swimming   \n",
       "2  FIN  1920 Summer  1920  Summer  Antwerpen    Swimming   \n",
       "\n",
       "                                     olay madalya tarih_saat  \n",
       "0             Tug-Of-War Men's Tug-Of-War    Gold 1900-01-01  \n",
       "1  Swimming Men's 200 metres Breaststroke  Bronze 1920-01-01  \n",
       "2  Swimming Men's 400 metres Breaststroke  Bronze 1920-01-01  "
      ]
     },
     "execution_count": 45,
     "metadata": {},
     "output_type": "execute_result"
    }
   ],
   "source": [
    "veri_zaman[\"tarih_saat\"] = clock_time_date\n",
    "veri_zaman.head(3)"
   ]
  },
  {
   "cell_type": "code",
   "execution_count": 46,
   "id": "9006d514-1c31-4426-ae8c-ef481bbe8ea8",
   "metadata": {
    "tags": []
   },
   "outputs": [
    {
     "data": {
      "text/html": [
       "<div>\n",
       "<style scoped>\n",
       "    .dataframe tbody tr th:only-of-type {\n",
       "        vertical-align: middle;\n",
       "    }\n",
       "\n",
       "    .dataframe tbody tr th {\n",
       "        vertical-align: top;\n",
       "    }\n",
       "\n",
       "    .dataframe thead th {\n",
       "        text-align: right;\n",
       "    }\n",
       "</style>\n",
       "<table border=\"1\" class=\"dataframe\">\n",
       "  <thead>\n",
       "    <tr style=\"text-align: right;\">\n",
       "      <th></th>\n",
       "      <th>id</th>\n",
       "      <th>ad</th>\n",
       "      <th>cinsiyet</th>\n",
       "      <th>yaş</th>\n",
       "      <th>boy</th>\n",
       "      <th>kilo</th>\n",
       "      <th>takım</th>\n",
       "      <th>uoc</th>\n",
       "      <th>oyunlar</th>\n",
       "      <th>sezon</th>\n",
       "      <th>şehir</th>\n",
       "      <th>spor</th>\n",
       "      <th>olay</th>\n",
       "      <th>madalya</th>\n",
       "    </tr>\n",
       "    <tr>\n",
       "      <th>tarih_saat</th>\n",
       "      <th></th>\n",
       "      <th></th>\n",
       "      <th></th>\n",
       "      <th></th>\n",
       "      <th></th>\n",
       "      <th></th>\n",
       "      <th></th>\n",
       "      <th></th>\n",
       "      <th></th>\n",
       "      <th></th>\n",
       "      <th></th>\n",
       "      <th></th>\n",
       "      <th></th>\n",
       "      <th></th>\n",
       "    </tr>\n",
       "  </thead>\n",
       "  <tbody>\n",
       "    <tr>\n",
       "      <th>1900-01-01</th>\n",
       "      <td>4</td>\n",
       "      <td>Edgar Lindenau Aabye</td>\n",
       "      <td>M</td>\n",
       "      <td>34.0</td>\n",
       "      <td>182.48</td>\n",
       "      <td>95.62</td>\n",
       "      <td>Denmark/Sweden</td>\n",
       "      <td>DEN</td>\n",
       "      <td>1900 Summer</td>\n",
       "      <td>Summer</td>\n",
       "      <td>Paris</td>\n",
       "      <td>Tug-Of-War</td>\n",
       "      <td>Tug-Of-War Men's Tug-Of-War</td>\n",
       "      <td>Gold</td>\n",
       "    </tr>\n",
       "    <tr>\n",
       "      <th>1920-01-01</th>\n",
       "      <td>15</td>\n",
       "      <td>Arvo Ossian Aaltonen</td>\n",
       "      <td>M</td>\n",
       "      <td>30.0</td>\n",
       "      <td>182.01</td>\n",
       "      <td>76.69</td>\n",
       "      <td>Finland</td>\n",
       "      <td>FIN</td>\n",
       "      <td>1920 Summer</td>\n",
       "      <td>Summer</td>\n",
       "      <td>Antwerpen</td>\n",
       "      <td>Swimming</td>\n",
       "      <td>Swimming Men's 200 metres Breaststroke</td>\n",
       "      <td>Bronze</td>\n",
       "    </tr>\n",
       "    <tr>\n",
       "      <th>1920-01-01</th>\n",
       "      <td>15</td>\n",
       "      <td>Arvo Ossian Aaltonen</td>\n",
       "      <td>M</td>\n",
       "      <td>30.0</td>\n",
       "      <td>177.00</td>\n",
       "      <td>75.00</td>\n",
       "      <td>Finland</td>\n",
       "      <td>FIN</td>\n",
       "      <td>1920 Summer</td>\n",
       "      <td>Summer</td>\n",
       "      <td>Antwerpen</td>\n",
       "      <td>Swimming</td>\n",
       "      <td>Swimming Men's 400 metres Breaststroke</td>\n",
       "      <td>Bronze</td>\n",
       "    </tr>\n",
       "  </tbody>\n",
       "</table>\n",
       "</div>"
      ],
      "text/plain": [
       "            id                    ad cinsiyet   yaş     boy   kilo  \\\n",
       "tarih_saat                                                           \n",
       "1900-01-01   4  Edgar Lindenau Aabye        M  34.0  182.48  95.62   \n",
       "1920-01-01  15  Arvo Ossian Aaltonen        M  30.0  182.01  76.69   \n",
       "1920-01-01  15  Arvo Ossian Aaltonen        M  30.0  177.00  75.00   \n",
       "\n",
       "                     takım  uoc      oyunlar   sezon      şehir        spor  \\\n",
       "tarih_saat                                                                    \n",
       "1900-01-01  Denmark/Sweden  DEN  1900 Summer  Summer      Paris  Tug-Of-War   \n",
       "1920-01-01         Finland  FIN  1920 Summer  Summer  Antwerpen    Swimming   \n",
       "1920-01-01         Finland  FIN  1920 Summer  Summer  Antwerpen    Swimming   \n",
       "\n",
       "                                              olay madalya  \n",
       "tarih_saat                                                  \n",
       "1900-01-01             Tug-Of-War Men's Tug-Of-War    Gold  \n",
       "1920-01-01  Swimming Men's 200 metres Breaststroke  Bronze  \n",
       "1920-01-01  Swimming Men's 400 metres Breaststroke  Bronze  "
      ]
     },
     "execution_count": 46,
     "metadata": {},
     "output_type": "execute_result"
    }
   ],
   "source": [
    "veri_zaman = veri_zaman.set_index(\"tarih_saat\")\n",
    "veri_zaman.drop([\"yıl\"], axis = 1, inplace = True)\n",
    "veri_zaman.head(3)"
   ]
  },
  {
   "cell_type": "code",
   "execution_count": 53,
   "id": "656121f4-9a9f-4e74-b28b-cc4e4a95bac5",
   "metadata": {
    "tags": []
   },
   "outputs": [],
   "source": [
    "periyodik_veri = veri_zaman.loc[:, [\"yaş\", \"boy\", \"kilo\"]].resample(\"2A\").mean()"
   ]
  },
  {
   "cell_type": "code",
   "execution_count": 54,
   "id": "c7777faa-5560-49de-8b00-bc5730d752f0",
   "metadata": {
    "tags": []
   },
   "outputs": [
    {
     "data": {
      "text/html": [
       "<div>\n",
       "<style scoped>\n",
       "    .dataframe tbody tr th:only-of-type {\n",
       "        vertical-align: middle;\n",
       "    }\n",
       "\n",
       "    .dataframe tbody tr th {\n",
       "        vertical-align: top;\n",
       "    }\n",
       "\n",
       "    .dataframe thead th {\n",
       "        text-align: right;\n",
       "    }\n",
       "</style>\n",
       "<table border=\"1\" class=\"dataframe\">\n",
       "  <thead>\n",
       "    <tr style=\"text-align: right;\">\n",
       "      <th></th>\n",
       "      <th>yaş</th>\n",
       "      <th>boy</th>\n",
       "      <th>kilo</th>\n",
       "    </tr>\n",
       "    <tr>\n",
       "      <th>tarih_saat</th>\n",
       "      <th></th>\n",
       "      <th></th>\n",
       "      <th></th>\n",
       "    </tr>\n",
       "  </thead>\n",
       "  <tbody>\n",
       "    <tr>\n",
       "      <th>1896-12-31</th>\n",
       "      <td>23.905734</td>\n",
       "      <td>174.280350</td>\n",
       "      <td>72.734056</td>\n",
       "    </tr>\n",
       "    <tr>\n",
       "      <th>1898-12-31</th>\n",
       "      <td>NaN</td>\n",
       "      <td>NaN</td>\n",
       "      <td>NaN</td>\n",
       "    </tr>\n",
       "    <tr>\n",
       "      <th>1900-12-31</th>\n",
       "      <td>27.786689</td>\n",
       "      <td>177.882301</td>\n",
       "      <td>74.979950</td>\n",
       "    </tr>\n",
       "  </tbody>\n",
       "</table>\n",
       "</div>"
      ],
      "text/plain": [
       "                  yaş         boy       kilo\n",
       "tarih_saat                                  \n",
       "1896-12-31  23.905734  174.280350  72.734056\n",
       "1898-12-31        NaN         NaN        NaN\n",
       "1900-12-31  27.786689  177.882301  74.979950"
      ]
     },
     "execution_count": 54,
     "metadata": {},
     "output_type": "execute_result"
    }
   ],
   "source": [
    "periyodik_veri.head(3)"
   ]
  }
 ],
 "metadata": {
  "kernelspec": {
   "display_name": "Python 3 (ipykernel)",
   "language": "python",
   "name": "python3"
  },
  "language_info": {
   "codemirror_mode": {
    "name": "ipython",
    "version": 3
   },
   "file_extension": ".py",
   "mimetype": "text/x-python",
   "name": "python",
   "nbconvert_exporter": "python",
   "pygments_lexer": "ipython3",
   "version": "3.11.5"
  }
 },
 "nbformat": 4,
 "nbformat_minor": 5
}
